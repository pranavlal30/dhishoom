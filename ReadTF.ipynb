{
 "cells": [
  {
   "cell_type": "markdown",
   "metadata": {},
   "source": [
    "# EVAL DATASET"
   ]
  },
  {
   "cell_type": "code",
   "execution_count": 2,
   "metadata": {},
   "outputs": [],
   "source": [
    "import tensorflow as tf"
   ]
  },
  {
   "cell_type": "code",
   "execution_count": 13,
   "metadata": {},
   "outputs": [],
   "source": [
    "sess = tf.InteractiveSession()"
   ]
  },
  {
   "cell_type": "code",
   "execution_count": 14,
   "metadata": {},
   "outputs": [],
   "source": [
    "reader = tf.TFRecordReader()\n",
    "filename_queue = tf.train.string_input_producer(['/Users/pranavlal/Documents/Big Data /Project/Data/audioset_v1_embeddings/eval/_l.tfrecord'])\n",
    "\n",
    "_, serialized_example = reader.read(filename_queue)"
   ]
  },
  {
   "cell_type": "code",
   "execution_count": 15,
   "metadata": {},
   "outputs": [
    {
     "data": {
      "text/plain": [
       "<tf.Tensor 'ReaderReadV2_1:1' shape=() dtype=string>"
      ]
     },
     "execution_count": 15,
     "metadata": {},
     "output_type": "execute_result"
    }
   ],
   "source": [
    "serialized_example"
   ]
  },
  {
   "cell_type": "code",
   "execution_count": 16,
   "metadata": {},
   "outputs": [],
   "source": [
    "context_ftrs = {\n",
    "    'video_id': tf.FixedLenFeature([], dtype=tf.string),\n",
    "    'start_time_seconds': tf.FixedLenFeature([], dtype=tf.float32),\n",
    "    'end_time_seconds': tf.FixedLenFeature([], dtype=tf.float32),\n",
    "    'labels': tf.VarLenFeature(dtype=tf.int64)}\n",
    "features_list_features = {\n",
    "    'audio_embedding': tf.VarLenFeature(dtype=tf.string)}"
   ]
  },
  {
   "cell_type": "code",
   "execution_count": 17,
   "metadata": {},
   "outputs": [],
   "source": [
    "read_context, read_sequence = tf.parse_single_sequence_example(serialized=serialized_example,\n",
    "                                                               context_features=context_ftrs,\n",
    "                                                               sequence_features=features_list_features)"
   ]
  },
  {
   "cell_type": "code",
   "execution_count": 18,
   "metadata": {},
   "outputs": [
    {
     "name": "stdout",
     "output_type": "stream",
     "text": [
      "labels: SparseTensorValue(indices=array([[0]]), values=array([201]), dense_shape=array([1]))\n",
      "start_time_seconds: 30.0\n",
      "video_id: _lcgAEkolXI\n",
      "end_time_seconds: 60.0\n"
     ]
    }
   ],
   "source": [
    "\n",
    "\n",
    "tf.train.start_queue_runners(sess)\n",
    "\n",
    "# Print features\n",
    "for name, tensor in read_context.items():\n",
    "    print('{}: {}'.format(name, tensor.eval()))"
   ]
  },
  {
   "cell_type": "code",
   "execution_count": 19,
   "metadata": {},
   "outputs": [
    {
     "name": "stdout",
     "output_type": "stream",
     "text": [
      "audio_embedding: SparseTensorValue(indices=array([[0, 0],\n",
      "       [1, 0],\n",
      "       [2, 0],\n",
      "       [3, 0],\n",
      "       [4, 0],\n",
      "       [5, 0],\n",
      "       [6, 0],\n",
      "       [7, 0],\n",
      "       [8, 0],\n",
      "       [9, 0]]), values=array(['\\xad\\x1b~_\\xc2YC\\x9b\\x9a\\xa2\\x8eDq\\x96p\\x19d\\xff\\xca\\xc4\\x00\\xb2^\\xdbP\\x95q\\xb8\\x82.\\xb7vpF\\xa8\\x88\\x8a\\x8f\\xcf\\xb6m\\x9fD\\x84~\\x85\\x87f\\x9fGzO\\x93=P\\xb9M\\x93g\\x8ah\\x8b\\x94g\\x92yc\\x89t\\x92|imhx~\\x84\\x82Z~\\x89\\x8fl\\x81qyqvlu\\x88\\x90p\\x94y\\x8d\\x8a\\x86m\\x93\\x81t\\x80\\x97~\\x96ilp\\x81\\x8az\\x82\\x8csyf}ruy~~\\x82r\\x85\\x82\\xbb',\n",
      "       '\\xad\\x1b~_\\xc2YC\\x9b\\x9a\\xa2\\x8eDq\\x96p\\x19d\\xff\\xca\\xc4\\x00\\xb2^\\xdbP\\x95q\\xb8\\x82.\\xb7vpF\\xa8\\x88\\x8a\\x8f\\xcf\\xb6m\\x9fD\\x84~\\x85\\x87f\\x9fGzO\\x93=P\\xb9M\\x93g\\x8ah\\x8b\\x94g\\x92yc\\x89t\\x92|imhx~\\x84\\x82Z~\\x89\\x8fl\\x81qyqvlu\\x88\\x90p\\x94y\\x8d\\x8a\\x86m\\x93\\x81t\\x80\\x97~\\x96ilp\\x81\\x8az\\x82\\x8csyf}ruy~~\\x82r\\x85\\x82\\xbb',\n",
      "       '\\xad\\x1b~_\\xc2YC\\x9b\\x9a\\xa2\\x8eDq\\x96p\\x19d\\xff\\xca\\xc4\\x00\\xb2^\\xdbP\\x95q\\xb8\\x82.\\xb7vpF\\xa8\\x88\\x8a\\x8f\\xcf\\xb6m\\x9fD\\x84~\\x85\\x87f\\x9fGzO\\x93=P\\xb9M\\x93g\\x8ah\\x8b\\x94g\\x92yc\\x89t\\x92|imhx~\\x84\\x82Z~\\x89\\x8fl\\x81qyqvlu\\x88\\x90p\\x94y\\x8d\\x8a\\x86m\\x93\\x81t\\x80\\x97~\\x96ilp\\x81\\x8az\\x82\\x8csyf}ruy~~\\x82r\\x85\\x82\\xbb',\n",
      "       '\\xad\\x1b~_\\xc2YC\\x9b\\x9a\\xa2\\x8eDq\\x96p\\x19d\\xff\\xca\\xc4\\x00\\xb2^\\xdbP\\x95q\\xb8\\x82.\\xb7vpF\\xa8\\x88\\x8a\\x8f\\xcf\\xb6m\\x9fD\\x84~\\x85\\x87f\\x9fGzO\\x93=P\\xb9M\\x93g\\x8ah\\x8b\\x94g\\x92yc\\x89t\\x92|imhx~\\x84\\x82Z~\\x89\\x8fl\\x81qyqvlu\\x88\\x90p\\x94y\\x8d\\x8a\\x86m\\x93\\x81t\\x80\\x97~\\x96ilp\\x81\\x8az\\x82\\x8csyf}ruy~~\\x82r\\x85\\x82\\xbb',\n",
      "       '\\xad\\x1b~_\\xc2YC\\x9b\\x9a\\xa2\\x8eDq\\x96p\\x19d\\xff\\xca\\xc4\\x00\\xb2^\\xdbP\\x95q\\xb8\\x82.\\xb7vpF\\xa8\\x88\\x8a\\x8f\\xcf\\xb6m\\x9fD\\x84~\\x85\\x87f\\x9fGzO\\x93=P\\xb9M\\x93g\\x8ah\\x8b\\x94g\\x92yc\\x89t\\x92|imhx~\\x84\\x82Z~\\x89\\x8fl\\x81qyqvlu\\x88\\x90p\\x94y\\x8d\\x8a\\x86m\\x93\\x81t\\x80\\x97~\\x96ilp\\x81\\x8az\\x82\\x8csyf}ruy~~\\x82r\\x85\\x82\\xbb',\n",
      "       '\\xad\\x1b~_\\xc2YC\\x9b\\x9a\\xa2\\x8eDq\\x96p\\x19d\\xff\\xca\\xc4\\x00\\xb2^\\xdbP\\x95q\\xb8\\x82.\\xb7vpF\\xa8\\x88\\x8a\\x8f\\xcf\\xb6m\\x9fD\\x84~\\x85\\x87f\\x9fGzO\\x93=P\\xb9M\\x93g\\x8ah\\x8b\\x94g\\x92yc\\x89t\\x92|imhx~\\x84\\x82Z~\\x89\\x8fl\\x81qyqvlu\\x88\\x90p\\x94y\\x8d\\x8a\\x86m\\x93\\x81t\\x80\\x97~\\x96ilp\\x81\\x8az\\x82\\x8csyf}ruy~~\\x82r\\x85\\x82\\xbb',\n",
      "       '\\xad\\x1b~_\\xc2YC\\x9b\\x9a\\xa2\\x8eDq\\x96p\\x19d\\xff\\xca\\xc4\\x00\\xb2^\\xdbP\\x95q\\xb8\\x82.\\xb7vpF\\xa8\\x88\\x8a\\x8f\\xcf\\xb6m\\x9fD\\x84~\\x85\\x87f\\x9fGzO\\x93=P\\xb9M\\x93g\\x8ah\\x8b\\x94g\\x92yc\\x89t\\x92|imhx~\\x84\\x82Z~\\x89\\x8fl\\x81qyqvlu\\x88\\x90p\\x94y\\x8d\\x8a\\x86m\\x93\\x81t\\x80\\x97~\\x96ilp\\x81\\x8az\\x82\\x8csyf}ruy~~\\x82r\\x85\\x82\\xbb',\n",
      "       '\\xad\\x1b~_\\xc2YC\\x9b\\x9a\\xa2\\x8eDq\\x96p\\x19d\\xff\\xca\\xc4\\x00\\xb2^\\xdbP\\x95q\\xb8\\x82.\\xb7vpF\\xa8\\x88\\x8a\\x8f\\xcf\\xb6m\\x9fD\\x84~\\x85\\x87f\\x9fGzO\\x93=P\\xb9M\\x93g\\x8ah\\x8b\\x94g\\x92yc\\x89t\\x92|imhx~\\x84\\x82Z~\\x89\\x8fl\\x81qyqvlu\\x88\\x90p\\x94y\\x8d\\x8a\\x86m\\x93\\x81t\\x80\\x97~\\x96ilp\\x81\\x8az\\x82\\x8csyf}ruy~~\\x82r\\x85\\x82\\xbb',\n",
      "       '\\xad\\x1b~_\\xc2YC\\x9b\\x9a\\xa2\\x8eDq\\x96p\\x19d\\xff\\xca\\xc4\\x00\\xb2^\\xdbP\\x95q\\xb8\\x82.\\xb7vpF\\xa8\\x88\\x8a\\x8f\\xcf\\xb6m\\x9fD\\x84~\\x85\\x87f\\x9fGzO\\x93=P\\xb9M\\x93g\\x8ah\\x8b\\x94g\\x92yc\\x89t\\x92|imhx~\\x84\\x82Z~\\x89\\x8fl\\x81qyqvlu\\x88\\x90p\\x94y\\x8d\\x8a\\x86m\\x93\\x81t\\x80\\x97~\\x96ilp\\x81\\x8az\\x82\\x8csyf}ruy~~\\x82r\\x85\\x82\\xbb',\n",
      "       '\\xad\\x1b~_\\xc2YC\\x9b\\x9a\\xa2\\x8eDq\\x96p\\x19d\\xff\\xca\\xc4\\x00\\xb2^\\xdbP\\x95q\\xb8\\x82.\\xb7vpF\\xa8\\x88\\x8a\\x8f\\xcf\\xb6m\\x9fD\\x84~\\x85\\x87f\\x9fGzO\\x93=P\\xb9M\\x93g\\x8ah\\x8b\\x94g\\x92yc\\x89t\\x92|imhx~\\x84\\x82Z~\\x89\\x8fl\\x81qyqvlu\\x88\\x90p\\x94y\\x8d\\x8a\\x86m\\x93\\x81t\\x80\\x97~\\x96ilp\\x81\\x8az\\x82\\x8csyf}ruy~~\\x82r\\x85\\x82\\xbb'],\n",
      "      dtype=object), dense_shape=array([10,  1]))\n"
     ]
    }
   ],
   "source": [
    "tf.train.start_queue_runners(sess)\n",
    "\n",
    "# Print features\n",
    "for name, tensor in read_sequence.items():\n",
    "    print('{}: {}'.format(name, tensor.eval()))"
   ]
  },
  {
   "cell_type": "code",
   "execution_count": null,
   "metadata": {},
   "outputs": [],
   "source": []
  }
 ],
 "metadata": {
  "kernelspec": {
   "display_name": "Python 2",
   "language": "python",
   "name": "python2"
  },
  "language_info": {
   "codemirror_mode": {
    "name": "ipython",
    "version": 2
   },
   "file_extension": ".py",
   "mimetype": "text/x-python",
   "name": "python",
   "nbconvert_exporter": "python",
   "pygments_lexer": "ipython2",
   "version": "2.7.10"
  }
 },
 "nbformat": 4,
 "nbformat_minor": 2
}
